{
  "nbformat": 4,
  "nbformat_minor": 0,
  "metadata": {
    "colab": {
      "name": "8MUIChange.ipynb",
      "provenance": [],
      "authorship_tag": "ABX9TyMgUI0gkdZSAIj7FBPYGQ0Y",
      "include_colab_link": true
    },
    "kernelspec": {
      "name": "python3",
      "display_name": "Python 3"
    }
  },
  "cells": [
    {
      "cell_type": "markdown",
      "metadata": {
        "id": "view-in-github",
        "colab_type": "text"
      },
      "source": [
        "<a href=\"https://colab.research.google.com/github/thegismar/YIPs/blob/master/8MUIChange.ipynb\" target=\"_parent\"><img src=\"https://colab.research.google.com/assets/colab-badge.svg\" alt=\"Open In Colab\"/></a>"
      ]
    },
    {
      "cell_type": "markdown",
      "metadata": {
        "id": "1VVtgAg3ryLJ"
      },
      "source": [
        "# Abstract\n",
        "\n",
        "As presented in academia, the most prominent study being\n",
        "\n",
        "* **Slider Scale or Text Box: How Response Format Shapes Responses, Journal of Consumer Research**, https://doi.org/10.1093/jcr/ucy057)\n",
        "\n",
        "and in the bestseller \n",
        "\n",
        "* **Thinking, Fast and Slow by Daniel Kahneman** (https://www.amazon.com/Thinking-Fast-Slow-Daniel-Kahneman/dp/0374533555) \n",
        "\n",
        "it is shown that people have a tendency to think of numbers in non-rational terms. \n",
        "\n",
        "Applying this to an UI change from InputBox where a mental decision must be made on how much % should be given to a PercentageSlider it is shown that not only does a slider:\n",
        "\n",
        "* facilitate making the choice to donate\n",
        "* users choose a significantly higher donation, than when presented with an Inputbox (up to 66%)\n",
        "\n",
        "Depending on the estimation of % of user donations and the UI change effect, the added donations out of a pool of 8M DAI range from DAI 4,000 (1% donation, 5% effect) to DAI 240,000 (10% donation, 30% effect) \n",
        "\n",
        "# Reasoning\n",
        "\n",
        "## The concept of 'anchoring' \n",
        "\n",
        "https://en.wikipedia.org/wiki/Anchoring_(cognitive_bias)\n",
        "\n",
        "Kahneman explains this as follows: if a person is presented with the task to estimate an unknown number which cannot be estimated, an example to place an anchor would be this:\n",
        "\n",
        "* Question 1: Do you think that x is either higher or lower than N?\n",
        "\n",
        "* Question 2: What do you think the value for x is?\n",
        "\n",
        "**Question 1 does not give any information about x at all, yet when faced with Question 2, in almost all cases, people use N as 'anchor' for their answer and place the answer somewhere around N** (again, the participant has not received any additional knowledge about the number, which cannot be estimated)\n",
        "\n",
        "## Translating this to the UI:\n",
        "\n",
        "An InputBox with the default set to 0% creates a mental anchor of 0% against which the decision of the donation amount is being set.\n",
        "\n",
        "A PercentageSlider however **creates the anchor at the end, since every movement is considered in relation to it!**. Meaning a movement towards 20% is visualized as 20% of the length of the slider, furthermore the movement is towards the end.\n",
        "\n",
        "Thus studies show that using a slider versus inputbox has **very significant** changes in the amount donated, even when the initial default values are the same. This is widely used the industry.\n",
        "\n",
        "## Donations for the 8M refund\n",
        "\n",
        "To calculate the impact of this on the amount of donations, we have to first assume x% of total sum donated, and then that from that y% is due to the UI change.\n",
        "\n",
        "To make this a bit clearer, the assumption would be that if the total % donated is 10%, and we'll assume  10% UI change impact, ~9.1% would have been donated without the change.\n",
        "\n",
        "Below some estimations for donated % and UI effect % and their result in the final calculated increment of donated funds."
      ]
    },
    {
      "cell_type": "markdown",
      "metadata": {
        "id": "ev5un3SEYZtT"
      },
      "source": [
        "# Sample calculations"
      ]
    },
    {
      "cell_type": "code",
      "metadata": {
        "id": "dTK1TK-xqn2b",
        "outputId": "d7e151a3-69ea-4594-f75b-218e7fc8a5f0",
        "colab": {
          "base_uri": "https://localhost:8080/",
          "height": 374
        }
      },
      "source": [
        "import numpy as np\n",
        "\n",
        "MAX = 8000000\n",
        "\n",
        "sample_donations = [0.01, 0.05, 0.1]\n",
        "sample_ui_effects = [0.05, 0.1, 0.15, 0.2, 0.25, 0.3]\n",
        "\n",
        "for x in sample_donations:\n",
        "  print(f'Assuming that {x:.2%} were donated:')\n",
        "  for y in sample_ui_effects:\n",
        "    print(f'.. and the UI effect is {y:.2%}, the incremental value in donations would be: \\t DAI{MAX*x*y:10,.0f}')"
      ],
      "execution_count": 73,
      "outputs": [
        {
          "output_type": "stream",
          "text": [
            "Assuming that 1.00% were donated:\n",
            ".. and the UI effect is 5.00%, the incremental value in donations would be: \t DAI     4,000\n",
            ".. and the UI effect is 10.00%, the incremental value in donations would be: \t DAI     8,000\n",
            ".. and the UI effect is 15.00%, the incremental value in donations would be: \t DAI    12,000\n",
            ".. and the UI effect is 20.00%, the incremental value in donations would be: \t DAI    16,000\n",
            ".. and the UI effect is 25.00%, the incremental value in donations would be: \t DAI    20,000\n",
            ".. and the UI effect is 30.00%, the incremental value in donations would be: \t DAI    24,000\n",
            "Assuming that 5.00% were donated:\n",
            ".. and the UI effect is 5.00%, the incremental value in donations would be: \t DAI    20,000\n",
            ".. and the UI effect is 10.00%, the incremental value in donations would be: \t DAI    40,000\n",
            ".. and the UI effect is 15.00%, the incremental value in donations would be: \t DAI    60,000\n",
            ".. and the UI effect is 20.00%, the incremental value in donations would be: \t DAI    80,000\n",
            ".. and the UI effect is 25.00%, the incremental value in donations would be: \t DAI   100,000\n",
            ".. and the UI effect is 30.00%, the incremental value in donations would be: \t DAI   120,000\n",
            "Assuming that 10.00% were donated:\n",
            ".. and the UI effect is 5.00%, the incremental value in donations would be: \t DAI    40,000\n",
            ".. and the UI effect is 10.00%, the incremental value in donations would be: \t DAI    80,000\n",
            ".. and the UI effect is 15.00%, the incremental value in donations would be: \t DAI   120,000\n",
            ".. and the UI effect is 20.00%, the incremental value in donations would be: \t DAI   160,000\n",
            ".. and the UI effect is 25.00%, the incremental value in donations would be: \t DAI   200,000\n",
            ".. and the UI effect is 30.00%, the incremental value in donations would be: \t DAI   240,000\n"
          ],
          "name": "stdout"
        }
      ]
    }
  ]
}