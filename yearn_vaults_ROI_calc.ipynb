{
  "nbformat": 4,
  "nbformat_minor": 0,
  "metadata": {
    "colab": {
      "name": "yearn vaults ROI calc.ipynb",
      "provenance": [],
      "authorship_tag": "ABX9TyMwcyhZysNtyOpeS4bHl4L8",
      "include_colab_link": true
    },
    "kernelspec": {
      "name": "python3",
      "display_name": "Python 3"
    }
  },
  "cells": [
    {
      "cell_type": "markdown",
      "metadata": {
        "id": "view-in-github",
        "colab_type": "text"
      },
      "source": [
        "<a href=\"https://colab.research.google.com/github/thegismar/YIPs/blob/master/yearn_vaults_ROI_calc.ipynb\" target=\"_parent\"><img src=\"https://colab.research.google.com/assets/colab-badge.svg\" alt=\"Open In Colab\"/></a>"
      ]
    },
    {
      "cell_type": "markdown",
      "metadata": {
        "id": "blhh3GDAtmAI",
        "colab_type": "text"
      },
      "source": [
        "\n",
        "# An approach to calculating ROI for yearn.finance yVaults\n",
        "\n",
        "The final amount of tokens is calculated using this formula:\n",
        "\n",
        "$$\n",
        "f(p) = i * p(b)\n",
        "$$\n",
        "\n",
        "where $f(p)$ is the final amount of tokens (what we can withdraw **now**), $i$ is the initial amount of tokens, that would have been deposited at the creation of the smart contract and if multiplied by $p(b)$ gives what we deposit now, and $p(b)$ is the price, or multiplication factor which increases in function of $b$ the blockheight.\n",
        "\n",
        "Initially, at the very beginning of the smart contract we have:\n",
        "\n",
        "$i = 1$\n",
        "\n",
        "Meaning that what is being deposited is equal to the final amount of tokens.\n",
        "\n",
        "At later point though, $p(b)$ has increased and thus:\n",
        "$i > 1$ and $i = f(p)/p(b)$. This is the reason why the amount shown outside of parenthesis is smaller than what was deposited.\n",
        "\n",
        "### So how calculate the ROI or increment of our deposit?\n",
        "\n",
        "Given that $f(p)$ depends on $p(b)$ which in turn depends on the blockheight, we need to calculate the derivative (rate of change) of $p(b) - p`(b)$.\n",
        "\n",
        "For simplicity we assume that $p(b)$ is linear and thus we can approximate it's derivative using:\n",
        "$$\n",
        "p`(b) = \\frac{p_2 - p_1}{b_2 - b_1}\n",
        "$$\n",
        "\n",
        "where $p_2$ is the current sharePrice corresponding to the latest block $b_1$, and $p_1$ the historic sharePrice corresponding to block $b_2$.\n",
        "\n",
        "This value will give us the derivative of $p(b)$ for one block, meaning that if we average out the increments of $p(b)$ and assume it's growing linearly, it's increment for each block.\n",
        "\n",
        "Having that value, we can multiply by the number of blocks in a day, month, year, and approximate it's increment over that timeframe.\n",
        "\n",
        "The farther apart the two blocks are chosen, the more representative becomes the value, simply because we minimize the risk of having outliers in our calculation (for instance implementation of a new strategy).\n",
        "\n",
        "###Example:\n",
        "\n",
        "If we had deposited 100$ two weeks ago into the yVault for yCurve, and assuming the price at that time was 1.044, blocknumber 10691879.\n",
        "\n",
        "That would mean that our initial tokens would be reduced to:\n",
        "\n",
        "$$\n",
        "i = f(p)/p(b) = 100/1.044 = 95.78\n",
        "$$\n",
        "\n",
        "The current values are price: 1.052 and blocknumber 10692012. So calculating the derivative using as timeframe one week:\n",
        "\n",
        "$$\n",
        "\\\\\n",
        "p`(b) = \\frac{1.052-1.044}{10692012-10691879} = 0.00006015\n",
        "\\\\\n",
        "$$\n",
        "\n",
        "This is then the very approximate per block derivative of our tokens.\n",
        "\n",
        "Multiplying by tokens/ week:\n",
        "$$\n",
        "0.00006015 * 133 = 0.00799995 \\ or \\ 0.00799995 * 100 \\approx 0.8\\%\n",
        "$$\n",
        "\n",
        "So, a weekly ROI of 0.8%\n",
        "\n",
        "To verify we take this value and multiply it by our initial deposit of 100$ and then check it against the formula.\n",
        "\n",
        "$$\n",
        "100*1.008 = 100.8\n",
        "\\\\\n",
        "\\approx\n",
        "\\\\\n",
        "95.78 * 1.052 = 100.73\n",
        "$$\n",
        "\n",
        "Which is an acceptable approximation.\n"
      ]
    },
    {
      "cell_type": "code",
      "metadata": {
        "id": "WyV_cd79tk0d",
        "colab_type": "code",
        "colab": {}
      },
      "source": [
        ""
      ],
      "execution_count": null,
      "outputs": []
    }
  ]
}